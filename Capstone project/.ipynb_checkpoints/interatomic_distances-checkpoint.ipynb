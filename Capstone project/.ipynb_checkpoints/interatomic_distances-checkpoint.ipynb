{
 "cells": [
  {
   "cell_type": "markdown",
   "metadata": {},
   "source": [
    "In this notebook, we will implement the code to compute the distances between all pairs of atoms in all the molecules. We will then save the result in a file called 'CHAMPS_rel_pos' "
   ]
  },
  {
   "cell_type": "code",
   "execution_count": 1,
   "metadata": {},
   "outputs": [],
   "source": [
    "import numpy as np\n",
    "import pandas as pd\n",
    "import os"
   ]
  },
  {
   "cell_type": "code",
   "execution_count": 2,
   "metadata": {},
   "outputs": [
    {
     "data": {
      "text/plain": [
       "'C:\\\\Users\\\\agarw\\\\udacity-mlnd\\\\Capstone project'"
      ]
     },
     "execution_count": 2,
     "metadata": {},
     "output_type": "execute_result"
    }
   ],
   "source": [
    "os.getcwd()"
   ]
  },
  {
   "cell_type": "code",
   "execution_count": 3,
   "metadata": {},
   "outputs": [
    {
     "data": {
      "text/plain": [
       "['.ipynb_checkpoints',\n",
       " 'CHAMPS_rel_pos.csv',\n",
       " 'interatomic_distances.ipynb',\n",
       " 'nearest_neighbors.ipynb',\n",
       " 'predicting_scalar_couplings_II.ipynb',\n",
       " 'Proposal Review.pdf',\n",
       " 'Proposal.pdf',\n",
       " 'Report.pdf',\n",
       " 'structures_sample.csv',\n",
       " 'test_sample.csv',\n",
       " 'tex files',\n",
       " 'train_sample.csv']"
      ]
     },
     "execution_count": 3,
     "metadata": {},
     "output_type": "execute_result"
    }
   ],
   "source": [
    "os.listdir()"
   ]
  },
  {
   "cell_type": "code",
   "execution_count": 4,
   "metadata": {},
   "outputs": [],
   "source": [
    "import gc"
   ]
  },
  {
   "cell_type": "code",
   "execution_count": 5,
   "metadata": {},
   "outputs": [],
   "source": [
    "# function to obtain relative positions and distances between all pairs of atoms in each molecule\n",
    "# we will only compute this once and save the results to the file: CHAMPS_rel_pos.csv\n",
    "# for repeated runs we will simply import the results from CHAMPS_rel_pos.csv\n",
    "def interatomic_distances():\n",
    "  structures=pd.read_csv('structures_sample.csv')\n",
    "  print('step 1: {} molecules'.format(len(structures['molecule_name'].unique())))\n",
    "  \n",
    "  # obtaining all possible atomic pairs for each molecule\n",
    "  structures=structures.merge(structures, on='molecule_name', suffixes=('_0','_1'))\n",
    "  print('step 2: {} molecules'.format(len(structures['molecule_name'].unique())))\n",
    "  \n",
    "  # removing instances where atom_index_0 and atom_index_1 are same\n",
    "  # as this implies both the atoms in the pair are identical\n",
    "  structures=structures.loc[structures['atom_index_0']!=structures['atom_index_1']]\n",
    "  print('step 3: {} molecules'.format(len(structures['molecule_name'].unique())))\n",
    "  \n",
    "  # we will also need to reset the index since in the file since it starts with 1\n",
    "  # this is because row no. 0 got deleted in the previous step\n",
    "  # to avoid later conflicts we want it to start with 0\n",
    "  structures=structures.reset_index().drop(columns=['index'])\n",
    "  print('step 4: {} molecules'.format(len(structures['molecule_name'].unique())))\n",
    "  \n",
    "  # getting relative coordinates\n",
    "  rel_pos=pd.DataFrame(structures[['x_0','y_0','z_0']].values-structures[['x_1','y_1','z_1']].values, \n",
    "                       columns=['x_rel','y_rel', 'z_rel'])\n",
    "  #print(len(rel_pos)-len(structures))\n",
    "  \n",
    "  # translational invariance requires that only relative positions matter\n",
    "  # thus the coordinates 'x_0','y_0','z_0','x_1','y_1','z_1' can be safely dropped\n",
    "  # this helps reduce the memory consumed in storing structures\n",
    "  structures.drop(['x_0','y_0','z_0','x_1','y_1','z_1'],axis=1, inplace=True)\n",
    "  print('step 5: {} molecules'.format(len(structures['molecule_name'].unique())))\n",
    "  \n",
    "  # merge rel_pos and structures\n",
    "  structures=pd.concat([structures, rel_pos], axis=1)\n",
    "  print('step 6: {} molecules'.format(len(structures['molecule_name'].unique())))\n",
    "  print('Null values present: {}'.format(structures.isnull().values.any()))\n",
    "  \n",
    "  # delete rel_pos to save memory\n",
    "  del rel_pos\n",
    "  # garbage collect\n",
    "  gc.collect()\n",
    "  \n",
    "  \n",
    "  # the norm of relative position gives the distance between each atomic pair\n",
    "  # the numpy function norm computes this efficiently  \n",
    "  structures['distance']=np.linalg.norm(structures[['x_rel','y_rel','z_rel']].values, axis=1)\n",
    "  print('step 7: {} molecules'.format(len(structures['molecule_name'].unique())))\n",
    "  \n",
    "  # we will only compute this once and save the results to the file: CHAMPS_rel_pos.csv\n",
    "  # for repeated runs we will simply import the results from CHAMPS_rel_pos.csv\n",
    "  structures.to_csv('CHAMPS_rel_pos.csv',index=False)\n",
    "  \n",
    "  #Verifying that all molecules are present \n",
    "  mol=len(structures['molecule_name'].unique())\n",
    "  \n",
    "  \n",
    "  \n",
    "  print('saved info about {} molecules'.format(mol))\n",
    "  \n",
    "  \n",
    "  return"
   ]
  },
  {
   "cell_type": "code",
   "execution_count": 6,
   "metadata": {},
   "outputs": [],
   "source": [
    "import time"
   ]
  },
  {
   "cell_type": "code",
   "execution_count": 7,
   "metadata": {},
   "outputs": [
    {
     "name": "stdout",
     "output_type": "stream",
     "text": [
      "step 1: 1600 molecules\n",
      "step 2: 1600 molecules\n",
      "step 3: 1600 molecules\n",
      "step 4: 1600 molecules\n",
      "step 5: 1600 molecules\n",
      "step 6: 1600 molecules\n",
      "Null values present: False\n",
      "step 7: 1600 molecules\n",
      "saved info about 1600 molecules\n",
      "Wall time: 6.69 s\n"
     ]
    }
   ],
   "source": [
    "%%time\n",
    "# executing the function interatomic_distances\n",
    "interatomic_distances()"
   ]
  },
  {
   "cell_type": "code",
   "execution_count": 8,
   "metadata": {},
   "outputs": [],
   "source": [
    "rel_pos=pd.read_csv('CHAMPS_rel_pos.csv')"
   ]
  },
  {
   "cell_type": "code",
   "execution_count": 9,
   "metadata": {},
   "outputs": [
    {
     "data": {
      "text/html": [
       "<div>\n",
       "<style scoped>\n",
       "    .dataframe tbody tr th:only-of-type {\n",
       "        vertical-align: middle;\n",
       "    }\n",
       "\n",
       "    .dataframe tbody tr th {\n",
       "        vertical-align: top;\n",
       "    }\n",
       "\n",
       "    .dataframe thead th {\n",
       "        text-align: right;\n",
       "    }\n",
       "</style>\n",
       "<table border=\"1\" class=\"dataframe\">\n",
       "  <thead>\n",
       "    <tr style=\"text-align: right;\">\n",
       "      <th></th>\n",
       "      <th>molecule_name</th>\n",
       "      <th>atom_index_0</th>\n",
       "      <th>atom_0</th>\n",
       "      <th>atom_index_1</th>\n",
       "      <th>atom_1</th>\n",
       "      <th>x_rel</th>\n",
       "      <th>y_rel</th>\n",
       "      <th>z_rel</th>\n",
       "      <th>distance</th>\n",
       "    </tr>\n",
       "  </thead>\n",
       "  <tbody>\n",
       "    <tr>\n",
       "      <th>0</th>\n",
       "      <td>dsgdb9nsd_000658</td>\n",
       "      <td>0</td>\n",
       "      <td>C</td>\n",
       "      <td>1</td>\n",
       "      <td>C</td>\n",
       "      <td>-1.429828</td>\n",
       "      <td>-0.557103</td>\n",
       "      <td>0.058681</td>\n",
       "      <td>1.535648</td>\n",
       "    </tr>\n",
       "    <tr>\n",
       "      <th>1</th>\n",
       "      <td>dsgdb9nsd_000658</td>\n",
       "      <td>0</td>\n",
       "      <td>C</td>\n",
       "      <td>2</td>\n",
       "      <td>C</td>\n",
       "      <td>-2.186052</td>\n",
       "      <td>-0.036131</td>\n",
       "      <td>1.289821</td>\n",
       "      <td>2.538458</td>\n",
       "    </tr>\n",
       "    <tr>\n",
       "      <th>2</th>\n",
       "      <td>dsgdb9nsd_000658</td>\n",
       "      <td>0</td>\n",
       "      <td>C</td>\n",
       "      <td>3</td>\n",
       "      <td>C</td>\n",
       "      <td>-2.178763</td>\n",
       "      <td>1.498805</td>\n",
       "      <td>1.345985</td>\n",
       "      <td>2.967339</td>\n",
       "    </tr>\n",
       "    <tr>\n",
       "      <th>3</th>\n",
       "      <td>dsgdb9nsd_000658</td>\n",
       "      <td>0</td>\n",
       "      <td>C</td>\n",
       "      <td>4</td>\n",
       "      <td>C</td>\n",
       "      <td>-0.748934</td>\n",
       "      <td>2.055909</td>\n",
       "      <td>1.287305</td>\n",
       "      <td>2.538665</td>\n",
       "    </tr>\n",
       "    <tr>\n",
       "      <th>4</th>\n",
       "      <td>dsgdb9nsd_000658</td>\n",
       "      <td>0</td>\n",
       "      <td>C</td>\n",
       "      <td>5</td>\n",
       "      <td>C</td>\n",
       "      <td>0.007290</td>\n",
       "      <td>1.534939</td>\n",
       "      <td>0.056167</td>\n",
       "      <td>1.535984</td>\n",
       "    </tr>\n",
       "  </tbody>\n",
       "</table>\n",
       "</div>"
      ],
      "text/plain": [
       "      molecule_name  atom_index_0 atom_0  atom_index_1 atom_1     x_rel  \\\n",
       "0  dsgdb9nsd_000658             0      C             1      C -1.429828   \n",
       "1  dsgdb9nsd_000658             0      C             2      C -2.186052   \n",
       "2  dsgdb9nsd_000658             0      C             3      C -2.178763   \n",
       "3  dsgdb9nsd_000658             0      C             4      C -0.748934   \n",
       "4  dsgdb9nsd_000658             0      C             5      C  0.007290   \n",
       "\n",
       "      y_rel     z_rel  distance  \n",
       "0 -0.557103  0.058681  1.535648  \n",
       "1 -0.036131  1.289821  2.538458  \n",
       "2  1.498805  1.345985  2.967339  \n",
       "3  2.055909  1.287305  2.538665  \n",
       "4  1.534939  0.056167  1.535984  "
      ]
     },
     "execution_count": 9,
     "metadata": {},
     "output_type": "execute_result"
    }
   ],
   "source": [
    "rel_pos.head()"
   ]
  }
 ],
 "metadata": {
  "kernelspec": {
   "display_name": "Python [conda env:tensorflow-gpu]",
   "language": "python",
   "name": "conda-env-tensorflow-gpu-py"
  },
  "language_info": {
   "codemirror_mode": {
    "name": "ipython",
    "version": 3
   },
   "file_extension": ".py",
   "mimetype": "text/x-python",
   "name": "python",
   "nbconvert_exporter": "python",
   "pygments_lexer": "ipython3",
   "version": "3.7.2"
  }
 },
 "nbformat": 4,
 "nbformat_minor": 2
}
